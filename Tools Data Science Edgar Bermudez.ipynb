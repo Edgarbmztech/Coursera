{
 "cells": [
  {
   "cell_type": "code",
   "execution_count": null,
   "id": "3332791b",
   "metadata": {},
   "outputs": [],
   "source": [
    "# Notebook Title Data Science Tools and Ecosystem\n",
    "\n",
    "\n",
    "\n",
    "## Introduction\n",
    "This notebook demonstrates the process of analyzing data using various techniques.\n",
    "\n",
    "\n",
    "## Data Science Languages  \n",
    "Here are some popular languages used in Data Science:  \n",
    "\n",
    "- Python  \n",
    "- R  \n",
    "- SQL  \n",
    "- Julia  \n",
    "- Scala  \n",
    "- Java  \n",
    "- MATLAB  \n",
    "- C++  \n",
    "\n",
    "\n",
    "## Data Science Libraries  \n",
    "Here are some widely-used libraries in Data Science:  \n",
    "\n",
    "- **Python Libraries**:  \n",
    "  - NumPy  \n",
    "  - pandas  \n",
    "  - Matplotlib  \n",
    "  - Seaborn  \n",
    "  - SciPy  \n",
    "  - scikit-learn  \n",
    "  - TensorFlow  \n",
    "  - PyTorch  \n",
    "\n",
    "- **R Libraries**:  \n",
    "  - ggplot2  \n",
    "  - dplyr  \n",
    "  - tidyr  \n",
    "  - caret  \n",
    "  - shiny  \n",
    "\n",
    "- **Other Libraries**:  \n",
    "  - Apache Spark (PySpark)  \n",
    "  - H2O.ai  \n",
    "\n",
    "    \n",
    "    \n",
    "## Data Science Tools  \n",
    "\n",
    "Below is a table of popular Data Science tools:  \n",
    "\n",
    "| Tool                | Description                                   | Language Supported        |  \n",
    "|---------------------|-----------------------------------------------|---------------------------|  \n",
    "| Jupyter Notebook    | Interactive computing environment            | Python, R, Julia          |  \n",
    "| RStudio             | Integrated development environment for R     | R                         |  \n",
    "| Apache Spark        | Distributed data processing framework        | Python, Scala, Java, R    |  \n",
    "| Tableau             | Data visualization tool                      | N/A                       |  \n",
    "| TensorFlow          | Machine learning library                     | Python, C++               |  \n",
    "| KNIME               | Data analytics platform                      | Multiple                  |  \n",
    "\n",
    "\n",
    "\n",
    "## Arithmetic Expression Examples  \n",
    "\n",
    "Arithmetic expressions are used to perform basic mathematical operations such as addition, subtraction, multiplication, and division. Here are a few examples:  \n",
    "- Addition: `2 + 3`  \n",
    "- Subtraction: `5 - 2`  \n",
    "- Multiplication: `4 * 3`  \n",
    "- Division: `8 / 2`  \n",
    "    \n",
    "    \n",
    "\n"
   ]
  },
  {
   "cell_type": "code",
   "execution_count": null,
   "id": "f02e4ac0",
   "metadata": {},
   "outputs": [],
   "source": [
    "# Multiply two numbers\n",
    "product = 6 * 7\n",
    "\n",
    "# Add two numbers\n",
    "sum_result = 10 + 5\n",
    "\n",
    "# Display the results\n",
    "print(\"The product is:\", product)\n",
    "print(\"The sum is:\", sum_result)\n"
   ]
  },
  {
   "cell_type": "code",
   "execution_count": null,
   "id": "0b0ed7df",
   "metadata": {},
   "outputs": [],
   "source": [
    "# Convert minutes to hours\n",
    "minutes = 120  # Example: total minutes\n",
    "hours = minutes / 60  # Conversion formula\n",
    "\n",
    "# Display the result\n",
    "print(f\"{minutes} minutes is equal to {hours} hours.\")"
   ]
  },
  {
   "cell_type": "code",
   "execution_count": null,
   "id": "158b1c3e",
   "metadata": {},
   "outputs": [],
   "source": [
    "## Objectives  \n",
    "\n",
    "The objectives of this notebook are as follows:  \n",
    "\n",
    "- Understand the basics of Markdown and its formatting options.  \n",
    "- Learn how to create and execute code cells.  \n",
    "- Perform basic arithmetic operations and conversions.  \n",
    "- Explore tools and libraries commonly used in Data Science.  \n",
    "- Develop proficiency in creating professional and structured notebooks. "
   ]
  },
  {
   "cell_type": "code",
   "execution_count": null,
   "id": "23aa3e65",
   "metadata": {},
   "outputs": [],
   "source": [
    "## Author  \n",
    "\n",
    "This notebook was created by **Edgar Bermudez**.  "
   ]
  },
  {
   "cell_type": "code",
   "execution_count": null,
   "id": "17b1efe6",
   "metadata": {},
   "outputs": [],
   "source": []
  }
 ],
 "metadata": {
  "kernelspec": {
   "display_name": "Python 3 (ipykernel)",
   "language": "python",
   "name": "python3"
  },
  "language_info": {
   "codemirror_mode": {
    "name": "ipython",
    "version": 3
   },
   "file_extension": ".py",
   "mimetype": "text/x-python",
   "name": "python",
   "nbconvert_exporter": "python",
   "pygments_lexer": "ipython3",
   "version": "3.11.4"
  }
 },
 "nbformat": 4,
 "nbformat_minor": 5
}
